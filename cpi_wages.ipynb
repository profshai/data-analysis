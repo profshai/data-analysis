{
  "nbformat": 4,
  "nbformat_minor": 0,
  "metadata": {
    "colab": {
      "name": "cpi-wages.ipynb",
      "provenance": [],
      "collapsed_sections": [],
      "authorship_tag": "ABX9TyO+0zT3rDXfM0Wcb/iQbzfG",
      "include_colab_link": true
    },
    "kernelspec": {
      "name": "python3",
      "display_name": "Python 3"
    },
    "language_info": {
      "name": "python"
    }
  },
  "cells": [
    {
      "cell_type": "markdown",
      "metadata": {
        "id": "view-in-github",
        "colab_type": "text"
      },
      "source": [
        "<a href=\"https://colab.research.google.com/github/profshai/data-analysis/blob/main/cpi_wages.ipynb\" target=\"_parent\"><img src=\"https://colab.research.google.com/assets/colab-badge.svg\" alt=\"Open In Colab\"/></a>"
      ]
    },
    {
      "cell_type": "markdown",
      "metadata": {
        "id": "rwoHntyPbNPR"
      },
      "source": [
        "Data comes from the US Bureau of Labor Statistics.\n",
        "\n",
        "- CPI (CUUR0000SA0) represents CPI for all Urban Consumers \n",
        "- Wages (CIU2020000000000A) represents the wages and salaries of private industry workers in all industries and occupations."
      ]
    },
    {
      "cell_type": "code",
      "metadata": {
        "id": "rpJxVNqwaqSQ"
      },
      "source": [
        "import pandas as pd\n",
        "import numpy as np\n",
        "import matplotlib.pyplot as plt\n",
        "import bls"
      ],
      "execution_count": 3,
      "outputs": []
    },
    {
      "cell_type": "markdown",
      "metadata": {
        "id": "xLqVONZekzYc"
      },
      "source": [
        "### Importing data using the API"
      ]
    },
    {
      "cell_type": "code",
      "metadata": {
        "id": "FGo2ezPMQAmI"
      },
      "source": [
        "cpi = bls.get_series('CUUR0000SA0')\n",
        "cpi.to_csv('bls_cpi_data.csv')\n",
        "cpi_data = pd.read_csv('bls_cpi_data.csv')"
      ],
      "execution_count": 5,
      "outputs": []
    },
    {
      "cell_type": "code",
      "metadata": {
        "colab": {
          "base_uri": "https://localhost:8080/",
          "height": 419
        },
        "id": "BfdkdgeUbKnp",
        "outputId": "df625016-f903-407b-ae7b-a38d4598775f"
      },
      "source": [
        "cpi_data"
      ],
      "execution_count": 6,
      "outputs": [
        {
          "output_type": "execute_result",
          "data": {
            "text/html": [
              "<div>\n",
              "<style scoped>\n",
              "    .dataframe tbody tr th:only-of-type {\n",
              "        vertical-align: middle;\n",
              "    }\n",
              "\n",
              "    .dataframe tbody tr th {\n",
              "        vertical-align: top;\n",
              "    }\n",
              "\n",
              "    .dataframe thead th {\n",
              "        text-align: right;\n",
              "    }\n",
              "</style>\n",
              "<table border=\"1\" class=\"dataframe\">\n",
              "  <thead>\n",
              "    <tr style=\"text-align: right;\">\n",
              "      <th></th>\n",
              "      <th>date</th>\n",
              "      <th>CUUR0000SA0</th>\n",
              "    </tr>\n",
              "  </thead>\n",
              "  <tbody>\n",
              "    <tr>\n",
              "      <th>0</th>\n",
              "      <td>2012-01</td>\n",
              "      <td>226.665</td>\n",
              "    </tr>\n",
              "    <tr>\n",
              "      <th>1</th>\n",
              "      <td>2012-02</td>\n",
              "      <td>227.663</td>\n",
              "    </tr>\n",
              "    <tr>\n",
              "      <th>2</th>\n",
              "      <td>2012-03</td>\n",
              "      <td>229.392</td>\n",
              "    </tr>\n",
              "    <tr>\n",
              "      <th>3</th>\n",
              "      <td>2012-04</td>\n",
              "      <td>230.085</td>\n",
              "    </tr>\n",
              "    <tr>\n",
              "      <th>4</th>\n",
              "      <td>2012-05</td>\n",
              "      <td>229.815</td>\n",
              "    </tr>\n",
              "    <tr>\n",
              "      <th>...</th>\n",
              "      <td>...</td>\n",
              "      <td>...</td>\n",
              "    </tr>\n",
              "    <tr>\n",
              "      <th>108</th>\n",
              "      <td>2021-01</td>\n",
              "      <td>261.582</td>\n",
              "    </tr>\n",
              "    <tr>\n",
              "      <th>109</th>\n",
              "      <td>2021-02</td>\n",
              "      <td>263.014</td>\n",
              "    </tr>\n",
              "    <tr>\n",
              "      <th>110</th>\n",
              "      <td>2021-03</td>\n",
              "      <td>264.877</td>\n",
              "    </tr>\n",
              "    <tr>\n",
              "      <th>111</th>\n",
              "      <td>2021-04</td>\n",
              "      <td>267.054</td>\n",
              "    </tr>\n",
              "    <tr>\n",
              "      <th>112</th>\n",
              "      <td>2021-05</td>\n",
              "      <td>269.195</td>\n",
              "    </tr>\n",
              "  </tbody>\n",
              "</table>\n",
              "<p>113 rows × 2 columns</p>\n",
              "</div>"
            ],
            "text/plain": [
              "        date  CUUR0000SA0\n",
              "0    2012-01      226.665\n",
              "1    2012-02      227.663\n",
              "2    2012-03      229.392\n",
              "3    2012-04      230.085\n",
              "4    2012-05      229.815\n",
              "..       ...          ...\n",
              "108  2021-01      261.582\n",
              "109  2021-02      263.014\n",
              "110  2021-03      264.877\n",
              "111  2021-04      267.054\n",
              "112  2021-05      269.195\n",
              "\n",
              "[113 rows x 2 columns]"
            ]
          },
          "metadata": {
            "tags": []
          },
          "execution_count": 6
        }
      ]
    },
    {
      "cell_type": "code",
      "metadata": {
        "colab": {
          "base_uri": "https://localhost:8080/",
          "height": 419
        },
        "id": "YVUJMJryeVbH",
        "outputId": "957fc9dc-15bf-43da-c9f0-4ef30210b365"
      },
      "source": [
        "cpi_data.columns = 'Date', 'CPI'\n",
        "cpi_data"
      ],
      "execution_count": 8,
      "outputs": [
        {
          "output_type": "execute_result",
          "data": {
            "text/html": [
              "<div>\n",
              "<style scoped>\n",
              "    .dataframe tbody tr th:only-of-type {\n",
              "        vertical-align: middle;\n",
              "    }\n",
              "\n",
              "    .dataframe tbody tr th {\n",
              "        vertical-align: top;\n",
              "    }\n",
              "\n",
              "    .dataframe thead th {\n",
              "        text-align: right;\n",
              "    }\n",
              "</style>\n",
              "<table border=\"1\" class=\"dataframe\">\n",
              "  <thead>\n",
              "    <tr style=\"text-align: right;\">\n",
              "      <th></th>\n",
              "      <th>Date</th>\n",
              "      <th>CPI</th>\n",
              "    </tr>\n",
              "  </thead>\n",
              "  <tbody>\n",
              "    <tr>\n",
              "      <th>0</th>\n",
              "      <td>2012-01</td>\n",
              "      <td>226.665</td>\n",
              "    </tr>\n",
              "    <tr>\n",
              "      <th>1</th>\n",
              "      <td>2012-02</td>\n",
              "      <td>227.663</td>\n",
              "    </tr>\n",
              "    <tr>\n",
              "      <th>2</th>\n",
              "      <td>2012-03</td>\n",
              "      <td>229.392</td>\n",
              "    </tr>\n",
              "    <tr>\n",
              "      <th>3</th>\n",
              "      <td>2012-04</td>\n",
              "      <td>230.085</td>\n",
              "    </tr>\n",
              "    <tr>\n",
              "      <th>4</th>\n",
              "      <td>2012-05</td>\n",
              "      <td>229.815</td>\n",
              "    </tr>\n",
              "    <tr>\n",
              "      <th>...</th>\n",
              "      <td>...</td>\n",
              "      <td>...</td>\n",
              "    </tr>\n",
              "    <tr>\n",
              "      <th>108</th>\n",
              "      <td>2021-01</td>\n",
              "      <td>261.582</td>\n",
              "    </tr>\n",
              "    <tr>\n",
              "      <th>109</th>\n",
              "      <td>2021-02</td>\n",
              "      <td>263.014</td>\n",
              "    </tr>\n",
              "    <tr>\n",
              "      <th>110</th>\n",
              "      <td>2021-03</td>\n",
              "      <td>264.877</td>\n",
              "    </tr>\n",
              "    <tr>\n",
              "      <th>111</th>\n",
              "      <td>2021-04</td>\n",
              "      <td>267.054</td>\n",
              "    </tr>\n",
              "    <tr>\n",
              "      <th>112</th>\n",
              "      <td>2021-05</td>\n",
              "      <td>269.195</td>\n",
              "    </tr>\n",
              "  </tbody>\n",
              "</table>\n",
              "<p>113 rows × 2 columns</p>\n",
              "</div>"
            ],
            "text/plain": [
              "        Date      CPI\n",
              "0    2012-01  226.665\n",
              "1    2012-02  227.663\n",
              "2    2012-03  229.392\n",
              "3    2012-04  230.085\n",
              "4    2012-05  229.815\n",
              "..       ...      ...\n",
              "108  2021-01  261.582\n",
              "109  2021-02  263.014\n",
              "110  2021-03  264.877\n",
              "111  2021-04  267.054\n",
              "112  2021-05  269.195\n",
              "\n",
              "[113 rows x 2 columns]"
            ]
          },
          "metadata": {
            "tags": []
          },
          "execution_count": 8
        }
      ]
    },
    {
      "cell_type": "code",
      "metadata": {
        "colab": {
          "base_uri": "https://localhost:8080/",
          "height": 204
        },
        "id": "2i77fWmwfNlG",
        "outputId": "040b8bd3-3704-481f-a3d2-e95082852bc7"
      },
      "source": [
        "wages = bls.get_series('CIU2020000000000A')\n",
        "wages.to_csv('bls_wages_data_csv')\n",
        "df = pd.read_csv('bls_wages_data_csv')\n",
        "df.columns = 'Date', 'Wages'\n",
        "df.head()"
      ],
      "execution_count": 10,
      "outputs": [
        {
          "output_type": "execute_result",
          "data": {
            "text/html": [
              "<div>\n",
              "<style scoped>\n",
              "    .dataframe tbody tr th:only-of-type {\n",
              "        vertical-align: middle;\n",
              "    }\n",
              "\n",
              "    .dataframe tbody tr th {\n",
              "        vertical-align: top;\n",
              "    }\n",
              "\n",
              "    .dataframe thead th {\n",
              "        text-align: right;\n",
              "    }\n",
              "</style>\n",
              "<table border=\"1\" class=\"dataframe\">\n",
              "  <thead>\n",
              "    <tr style=\"text-align: right;\">\n",
              "      <th></th>\n",
              "      <th>Date</th>\n",
              "      <th>Wages</th>\n",
              "    </tr>\n",
              "  </thead>\n",
              "  <tbody>\n",
              "    <tr>\n",
              "      <th>0</th>\n",
              "      <td>2012Q1</td>\n",
              "      <td>1.9</td>\n",
              "    </tr>\n",
              "    <tr>\n",
              "      <th>1</th>\n",
              "      <td>2012Q2</td>\n",
              "      <td>1.8</td>\n",
              "    </tr>\n",
              "    <tr>\n",
              "      <th>2</th>\n",
              "      <td>2012Q3</td>\n",
              "      <td>1.8</td>\n",
              "    </tr>\n",
              "    <tr>\n",
              "      <th>3</th>\n",
              "      <td>2012Q4</td>\n",
              "      <td>1.7</td>\n",
              "    </tr>\n",
              "    <tr>\n",
              "      <th>4</th>\n",
              "      <td>2013Q1</td>\n",
              "      <td>1.7</td>\n",
              "    </tr>\n",
              "  </tbody>\n",
              "</table>\n",
              "</div>"
            ],
            "text/plain": [
              "     Date  Wages\n",
              "0  2012Q1    1.9\n",
              "1  2012Q2    1.8\n",
              "2  2012Q3    1.8\n",
              "3  2012Q4    1.7\n",
              "4  2013Q1    1.7"
            ]
          },
          "metadata": {
            "tags": []
          },
          "execution_count": 10
        }
      ]
    },
    {
      "cell_type": "markdown",
      "metadata": {
        "id": "oqQajdPzlAsX"
      },
      "source": [
        "### Working with data"
      ]
    },
    {
      "cell_type": "markdown",
      "metadata": {
        "id": "R7Ie5btAgvbo"
      },
      "source": [
        "We want to sync between the two dataset so that the Dates are compatible."
      ]
    },
    {
      "cell_type": "code",
      "metadata": {
        "colab": {
          "base_uri": "https://localhost:8080/"
        },
        "id": "Ifjudo8mg075",
        "outputId": "d870344f-15d4-4c53-c17f-973ac8e81c92"
      },
      "source": [
        "cpi_data['Date'] = cpi_data['Date'].str.replace('-03', 'Q1')\n",
        "cpi_data['Date'] = cpi_data['Date'].str.replace('-06', 'Q2')\n",
        "cpi_data['Date'] = cpi_data['Date'].str.replace('-09', 'Q3')\n",
        "cpi_data['Date'] = cpi_data['Date'].str.replace('-12', 'Q4')\n",
        "cpi_data['Date']"
      ],
      "execution_count": 12,
      "outputs": [
        {
          "output_type": "execute_result",
          "data": {
            "text/plain": [
              "0      2012-01\n",
              "1      2012-02\n",
              "2       2012Q1\n",
              "3      2012-04\n",
              "4      2012-05\n",
              "        ...   \n",
              "108    2021-01\n",
              "109    2021-02\n",
              "110     2021Q1\n",
              "111    2021-04\n",
              "112    2021-05\n",
              "Name: Date, Length: 113, dtype: object"
            ]
          },
          "metadata": {
            "tags": []
          },
          "execution_count": 12
        }
      ]
    },
    {
      "cell_type": "markdown",
      "metadata": {
        "id": "OGs3bLGdheCB"
      },
      "source": [
        "We have to drop all Dates with a '-' so we can have only quarterly dataset."
      ]
    },
    {
      "cell_type": "code",
      "metadata": {
        "id": "ogHkkUpshPZk"
      },
      "source": [
        "newcpi = cpi_data[(cpi_data.Date.str.contains('-') == False)]\n",
        "newcpi.to_csv('cpi-clean.csv')"
      ],
      "execution_count": 14,
      "outputs": []
    },
    {
      "cell_type": "code",
      "metadata": {
        "colab": {
          "base_uri": "https://localhost:8080/",
          "height": 204
        },
        "id": "WZHJ56i1hrjn",
        "outputId": "c11fe884-9068-4b11-b09b-0967b2ca6551"
      },
      "source": [
        "newcpi.head()"
      ],
      "execution_count": 16,
      "outputs": [
        {
          "output_type": "execute_result",
          "data": {
            "text/html": [
              "<div>\n",
              "<style scoped>\n",
              "    .dataframe tbody tr th:only-of-type {\n",
              "        vertical-align: middle;\n",
              "    }\n",
              "\n",
              "    .dataframe tbody tr th {\n",
              "        vertical-align: top;\n",
              "    }\n",
              "\n",
              "    .dataframe thead th {\n",
              "        text-align: right;\n",
              "    }\n",
              "</style>\n",
              "<table border=\"1\" class=\"dataframe\">\n",
              "  <thead>\n",
              "    <tr style=\"text-align: right;\">\n",
              "      <th></th>\n",
              "      <th>Date</th>\n",
              "      <th>CPI</th>\n",
              "    </tr>\n",
              "  </thead>\n",
              "  <tbody>\n",
              "    <tr>\n",
              "      <th>2</th>\n",
              "      <td>2012Q1</td>\n",
              "      <td>229.392</td>\n",
              "    </tr>\n",
              "    <tr>\n",
              "      <th>5</th>\n",
              "      <td>2012Q2</td>\n",
              "      <td>229.478</td>\n",
              "    </tr>\n",
              "    <tr>\n",
              "      <th>8</th>\n",
              "      <td>2012Q3</td>\n",
              "      <td>231.407</td>\n",
              "    </tr>\n",
              "    <tr>\n",
              "      <th>11</th>\n",
              "      <td>2012Q4</td>\n",
              "      <td>229.601</td>\n",
              "    </tr>\n",
              "    <tr>\n",
              "      <th>14</th>\n",
              "      <td>2013Q1</td>\n",
              "      <td>232.773</td>\n",
              "    </tr>\n",
              "  </tbody>\n",
              "</table>\n",
              "</div>"
            ],
            "text/plain": [
              "      Date      CPI\n",
              "2   2012Q1  229.392\n",
              "5   2012Q2  229.478\n",
              "8   2012Q3  231.407\n",
              "11  2012Q4  229.601\n",
              "14  2013Q1  232.773"
            ]
          },
          "metadata": {
            "tags": []
          },
          "execution_count": 16
        }
      ]
    },
    {
      "cell_type": "code",
      "metadata": {
        "colab": {
          "base_uri": "https://localhost:8080/",
          "height": 204
        },
        "id": "kIDdmZQpiAsr",
        "outputId": "fc91560c-0eac-4520-c6cf-91c38e752cb2"
      },
      "source": [
        "newdf = df\n",
        "newdf.head()"
      ],
      "execution_count": 17,
      "outputs": [
        {
          "output_type": "execute_result",
          "data": {
            "text/html": [
              "<div>\n",
              "<style scoped>\n",
              "    .dataframe tbody tr th:only-of-type {\n",
              "        vertical-align: middle;\n",
              "    }\n",
              "\n",
              "    .dataframe tbody tr th {\n",
              "        vertical-align: top;\n",
              "    }\n",
              "\n",
              "    .dataframe thead th {\n",
              "        text-align: right;\n",
              "    }\n",
              "</style>\n",
              "<table border=\"1\" class=\"dataframe\">\n",
              "  <thead>\n",
              "    <tr style=\"text-align: right;\">\n",
              "      <th></th>\n",
              "      <th>Date</th>\n",
              "      <th>Wages</th>\n",
              "    </tr>\n",
              "  </thead>\n",
              "  <tbody>\n",
              "    <tr>\n",
              "      <th>0</th>\n",
              "      <td>2012Q1</td>\n",
              "      <td>1.9</td>\n",
              "    </tr>\n",
              "    <tr>\n",
              "      <th>1</th>\n",
              "      <td>2012Q2</td>\n",
              "      <td>1.8</td>\n",
              "    </tr>\n",
              "    <tr>\n",
              "      <th>2</th>\n",
              "      <td>2012Q3</td>\n",
              "      <td>1.8</td>\n",
              "    </tr>\n",
              "    <tr>\n",
              "      <th>3</th>\n",
              "      <td>2012Q4</td>\n",
              "      <td>1.7</td>\n",
              "    </tr>\n",
              "    <tr>\n",
              "      <th>4</th>\n",
              "      <td>2013Q1</td>\n",
              "      <td>1.7</td>\n",
              "    </tr>\n",
              "  </tbody>\n",
              "</table>\n",
              "</div>"
            ],
            "text/plain": [
              "     Date  Wages\n",
              "0  2012Q1    1.9\n",
              "1  2012Q2    1.8\n",
              "2  2012Q3    1.8\n",
              "3  2012Q4    1.7\n",
              "4  2013Q1    1.7"
            ]
          },
          "metadata": {
            "tags": []
          },
          "execution_count": 17
        }
      ]
    },
    {
      "cell_type": "markdown",
      "metadata": {
        "id": "AGOvZV78jqSJ"
      },
      "source": [
        "We want to convert the wage change percentages to match the cpi using the following function. "
      ]
    },
    {
      "cell_type": "code",
      "metadata": {
        "id": "zAO_49zmiJNm"
      },
      "source": [
        "# newnum is the starting 2002 first quarter cpi value.\n",
        "newnum = 177.1\n",
        "def process_wages(x):\n",
        "  global newnum\n",
        "  if type(x) is str:\n",
        "    return x\n",
        "  elif x:\n",
        "    newnum = (x /400)* newnum + newnum\n",
        "    return newnum\n",
        "  else:\n",
        "    return\n",
        "newwages = newdf.applymap(process_wages)"
      ],
      "execution_count": 18,
      "outputs": []
    },
    {
      "cell_type": "code",
      "metadata": {
        "colab": {
          "base_uri": "https://localhost:8080/",
          "height": 1000
        },
        "id": "rh1tUHqnjbV7",
        "outputId": "753a41ff-2449-427b-cda8-914133c0ce3d"
      },
      "source": [
        "newwages"
      ],
      "execution_count": 19,
      "outputs": [
        {
          "output_type": "execute_result",
          "data": {
            "text/html": [
              "<div>\n",
              "<style scoped>\n",
              "    .dataframe tbody tr th:only-of-type {\n",
              "        vertical-align: middle;\n",
              "    }\n",
              "\n",
              "    .dataframe tbody tr th {\n",
              "        vertical-align: top;\n",
              "    }\n",
              "\n",
              "    .dataframe thead th {\n",
              "        text-align: right;\n",
              "    }\n",
              "</style>\n",
              "<table border=\"1\" class=\"dataframe\">\n",
              "  <thead>\n",
              "    <tr style=\"text-align: right;\">\n",
              "      <th></th>\n",
              "      <th>Date</th>\n",
              "      <th>Wages</th>\n",
              "    </tr>\n",
              "  </thead>\n",
              "  <tbody>\n",
              "    <tr>\n",
              "      <th>0</th>\n",
              "      <td>2012Q1</td>\n",
              "      <td>177.941225</td>\n",
              "    </tr>\n",
              "    <tr>\n",
              "      <th>1</th>\n",
              "      <td>2012Q2</td>\n",
              "      <td>178.741961</td>\n",
              "    </tr>\n",
              "    <tr>\n",
              "      <th>2</th>\n",
              "      <td>2012Q3</td>\n",
              "      <td>179.546299</td>\n",
              "    </tr>\n",
              "    <tr>\n",
              "      <th>3</th>\n",
              "      <td>2012Q4</td>\n",
              "      <td>180.309371</td>\n",
              "    </tr>\n",
              "    <tr>\n",
              "      <th>4</th>\n",
              "      <td>2013Q1</td>\n",
              "      <td>181.075686</td>\n",
              "    </tr>\n",
              "    <tr>\n",
              "      <th>5</th>\n",
              "      <td>2013Q2</td>\n",
              "      <td>181.935795</td>\n",
              "    </tr>\n",
              "    <tr>\n",
              "      <th>6</th>\n",
              "      <td>2013Q3</td>\n",
              "      <td>182.754507</td>\n",
              "    </tr>\n",
              "    <tr>\n",
              "      <th>7</th>\n",
              "      <td>2013Q4</td>\n",
              "      <td>183.713968</td>\n",
              "    </tr>\n",
              "    <tr>\n",
              "      <th>8</th>\n",
              "      <td>2014Q1</td>\n",
              "      <td>184.494752</td>\n",
              "    </tr>\n",
              "    <tr>\n",
              "      <th>9</th>\n",
              "      <td>2014Q2</td>\n",
              "      <td>185.371102</td>\n",
              "    </tr>\n",
              "    <tr>\n",
              "      <th>10</th>\n",
              "      <td>2014Q3</td>\n",
              "      <td>186.436986</td>\n",
              "    </tr>\n",
              "    <tr>\n",
              "      <th>11</th>\n",
              "      <td>2014Q4</td>\n",
              "      <td>187.462389</td>\n",
              "    </tr>\n",
              "    <tr>\n",
              "      <th>12</th>\n",
              "      <td>2015Q1</td>\n",
              "      <td>188.774626</td>\n",
              "    </tr>\n",
              "    <tr>\n",
              "      <th>13</th>\n",
              "      <td>2015Q2</td>\n",
              "      <td>189.812887</td>\n",
              "    </tr>\n",
              "    <tr>\n",
              "      <th>14</th>\n",
              "      <td>2015Q3</td>\n",
              "      <td>190.809404</td>\n",
              "    </tr>\n",
              "    <tr>\n",
              "      <th>15</th>\n",
              "      <td>2015Q4</td>\n",
              "      <td>191.811154</td>\n",
              "    </tr>\n",
              "    <tr>\n",
              "      <th>16</th>\n",
              "      <td>2016Q1</td>\n",
              "      <td>192.770209</td>\n",
              "    </tr>\n",
              "    <tr>\n",
              "      <th>17</th>\n",
              "      <td>2016Q2</td>\n",
              "      <td>194.023216</td>\n",
              "    </tr>\n",
              "    <tr>\n",
              "      <th>18</th>\n",
              "      <td>2016Q3</td>\n",
              "      <td>195.187355</td>\n",
              "    </tr>\n",
              "    <tr>\n",
              "      <th>19</th>\n",
              "      <td>2016Q4</td>\n",
              "      <td>196.309682</td>\n",
              "    </tr>\n",
              "    <tr>\n",
              "      <th>20</th>\n",
              "      <td>2017Q1</td>\n",
              "      <td>197.585695</td>\n",
              "    </tr>\n",
              "    <tr>\n",
              "      <th>21</th>\n",
              "      <td>2017Q2</td>\n",
              "      <td>198.771209</td>\n",
              "    </tr>\n",
              "    <tr>\n",
              "      <th>22</th>\n",
              "      <td>2017Q3</td>\n",
              "      <td>200.063222</td>\n",
              "    </tr>\n",
              "    <tr>\n",
              "      <th>23</th>\n",
              "      <td>2017Q4</td>\n",
              "      <td>201.463665</td>\n",
              "    </tr>\n",
              "    <tr>\n",
              "      <th>24</th>\n",
              "      <td>2018Q1</td>\n",
              "      <td>202.924276</td>\n",
              "    </tr>\n",
              "    <tr>\n",
              "      <th>25</th>\n",
              "      <td>2018Q2</td>\n",
              "      <td>204.395477</td>\n",
              "    </tr>\n",
              "    <tr>\n",
              "      <th>26</th>\n",
              "      <td>2018Q3</td>\n",
              "      <td>205.979542</td>\n",
              "    </tr>\n",
              "    <tr>\n",
              "      <th>27</th>\n",
              "      <td>2018Q4</td>\n",
              "      <td>207.575884</td>\n",
              "    </tr>\n",
              "    <tr>\n",
              "      <th>28</th>\n",
              "      <td>2019Q1</td>\n",
              "      <td>209.132703</td>\n",
              "    </tr>\n",
              "    <tr>\n",
              "      <th>29</th>\n",
              "      <td>2019Q2</td>\n",
              "      <td>210.701198</td>\n",
              "    </tr>\n",
              "    <tr>\n",
              "      <th>30</th>\n",
              "      <td>2019Q3</td>\n",
              "      <td>212.281457</td>\n",
              "    </tr>\n",
              "    <tr>\n",
              "      <th>31</th>\n",
              "      <td>2019Q4</td>\n",
              "      <td>213.873568</td>\n",
              "    </tr>\n",
              "    <tr>\n",
              "      <th>32</th>\n",
              "      <td>2020Q1</td>\n",
              "      <td>215.638025</td>\n",
              "    </tr>\n",
              "    <tr>\n",
              "      <th>33</th>\n",
              "      <td>2020Q2</td>\n",
              "      <td>217.201401</td>\n",
              "    </tr>\n",
              "    <tr>\n",
              "      <th>34</th>\n",
              "      <td>2020Q3</td>\n",
              "      <td>218.667510</td>\n",
              "    </tr>\n",
              "    <tr>\n",
              "      <th>35</th>\n",
              "      <td>2020Q4</td>\n",
              "      <td>220.198183</td>\n",
              "    </tr>\n",
              "    <tr>\n",
              "      <th>36</th>\n",
              "      <td>2021Q1</td>\n",
              "      <td>221.849669</td>\n",
              "    </tr>\n",
              "  </tbody>\n",
              "</table>\n",
              "</div>"
            ],
            "text/plain": [
              "      Date       Wages\n",
              "0   2012Q1  177.941225\n",
              "1   2012Q2  178.741961\n",
              "2   2012Q3  179.546299\n",
              "3   2012Q4  180.309371\n",
              "4   2013Q1  181.075686\n",
              "5   2013Q2  181.935795\n",
              "6   2013Q3  182.754507\n",
              "7   2013Q4  183.713968\n",
              "8   2014Q1  184.494752\n",
              "9   2014Q2  185.371102\n",
              "10  2014Q3  186.436986\n",
              "11  2014Q4  187.462389\n",
              "12  2015Q1  188.774626\n",
              "13  2015Q2  189.812887\n",
              "14  2015Q3  190.809404\n",
              "15  2015Q4  191.811154\n",
              "16  2016Q1  192.770209\n",
              "17  2016Q2  194.023216\n",
              "18  2016Q3  195.187355\n",
              "19  2016Q4  196.309682\n",
              "20  2017Q1  197.585695\n",
              "21  2017Q2  198.771209\n",
              "22  2017Q3  200.063222\n",
              "23  2017Q4  201.463665\n",
              "24  2018Q1  202.924276\n",
              "25  2018Q2  204.395477\n",
              "26  2018Q3  205.979542\n",
              "27  2018Q4  207.575884\n",
              "28  2019Q1  209.132703\n",
              "29  2019Q2  210.701198\n",
              "30  2019Q3  212.281457\n",
              "31  2019Q4  213.873568\n",
              "32  2020Q1  215.638025\n",
              "33  2020Q2  217.201401\n",
              "34  2020Q3  218.667510\n",
              "35  2020Q4  220.198183\n",
              "36  2021Q1  221.849669"
            ]
          },
          "metadata": {
            "tags": []
          },
          "execution_count": 19
        }
      ]
    },
    {
      "cell_type": "markdown",
      "metadata": {
        "id": "TfnEbQDbkrfT"
      },
      "source": [
        "### Merging and plotting data"
      ]
    },
    {
      "cell_type": "code",
      "metadata": {
        "colab": {
          "base_uri": "https://localhost:8080/",
          "height": 1000
        },
        "id": "pv0KL8srkK3O",
        "outputId": "e4c66433-9e21-4a17-c86a-cd51551f11cf"
      },
      "source": [
        "# Date column should be the index\n",
        "merged_data = pd.merge(newcpi, newwages, on='Date')\n",
        "merged_data"
      ],
      "execution_count": 21,
      "outputs": [
        {
          "output_type": "execute_result",
          "data": {
            "text/html": [
              "<div>\n",
              "<style scoped>\n",
              "    .dataframe tbody tr th:only-of-type {\n",
              "        vertical-align: middle;\n",
              "    }\n",
              "\n",
              "    .dataframe tbody tr th {\n",
              "        vertical-align: top;\n",
              "    }\n",
              "\n",
              "    .dataframe thead th {\n",
              "        text-align: right;\n",
              "    }\n",
              "</style>\n",
              "<table border=\"1\" class=\"dataframe\">\n",
              "  <thead>\n",
              "    <tr style=\"text-align: right;\">\n",
              "      <th></th>\n",
              "      <th>Date</th>\n",
              "      <th>CPI</th>\n",
              "      <th>Wages</th>\n",
              "    </tr>\n",
              "  </thead>\n",
              "  <tbody>\n",
              "    <tr>\n",
              "      <th>0</th>\n",
              "      <td>2012Q1</td>\n",
              "      <td>229.392</td>\n",
              "      <td>177.941225</td>\n",
              "    </tr>\n",
              "    <tr>\n",
              "      <th>1</th>\n",
              "      <td>2012Q2</td>\n",
              "      <td>229.478</td>\n",
              "      <td>178.741961</td>\n",
              "    </tr>\n",
              "    <tr>\n",
              "      <th>2</th>\n",
              "      <td>2012Q3</td>\n",
              "      <td>231.407</td>\n",
              "      <td>179.546299</td>\n",
              "    </tr>\n",
              "    <tr>\n",
              "      <th>3</th>\n",
              "      <td>2012Q4</td>\n",
              "      <td>229.601</td>\n",
              "      <td>180.309371</td>\n",
              "    </tr>\n",
              "    <tr>\n",
              "      <th>4</th>\n",
              "      <td>2013Q1</td>\n",
              "      <td>232.773</td>\n",
              "      <td>181.075686</td>\n",
              "    </tr>\n",
              "    <tr>\n",
              "      <th>5</th>\n",
              "      <td>2013Q2</td>\n",
              "      <td>233.504</td>\n",
              "      <td>181.935795</td>\n",
              "    </tr>\n",
              "    <tr>\n",
              "      <th>6</th>\n",
              "      <td>2013Q3</td>\n",
              "      <td>234.149</td>\n",
              "      <td>182.754507</td>\n",
              "    </tr>\n",
              "    <tr>\n",
              "      <th>7</th>\n",
              "      <td>2013Q4</td>\n",
              "      <td>233.049</td>\n",
              "      <td>183.713968</td>\n",
              "    </tr>\n",
              "    <tr>\n",
              "      <th>8</th>\n",
              "      <td>2014Q1</td>\n",
              "      <td>236.293</td>\n",
              "      <td>184.494752</td>\n",
              "    </tr>\n",
              "    <tr>\n",
              "      <th>9</th>\n",
              "      <td>2014Q2</td>\n",
              "      <td>238.343</td>\n",
              "      <td>185.371102</td>\n",
              "    </tr>\n",
              "    <tr>\n",
              "      <th>10</th>\n",
              "      <td>2014Q3</td>\n",
              "      <td>238.031</td>\n",
              "      <td>186.436986</td>\n",
              "    </tr>\n",
              "    <tr>\n",
              "      <th>11</th>\n",
              "      <td>2014Q4</td>\n",
              "      <td>234.812</td>\n",
              "      <td>187.462389</td>\n",
              "    </tr>\n",
              "    <tr>\n",
              "      <th>12</th>\n",
              "      <td>2015Q1</td>\n",
              "      <td>236.119</td>\n",
              "      <td>188.774626</td>\n",
              "    </tr>\n",
              "    <tr>\n",
              "      <th>13</th>\n",
              "      <td>2015Q2</td>\n",
              "      <td>238.638</td>\n",
              "      <td>189.812887</td>\n",
              "    </tr>\n",
              "    <tr>\n",
              "      <th>14</th>\n",
              "      <td>2015Q3</td>\n",
              "      <td>237.945</td>\n",
              "      <td>190.809404</td>\n",
              "    </tr>\n",
              "    <tr>\n",
              "      <th>15</th>\n",
              "      <td>2015Q4</td>\n",
              "      <td>236.525</td>\n",
              "      <td>191.811154</td>\n",
              "    </tr>\n",
              "    <tr>\n",
              "      <th>16</th>\n",
              "      <td>2016Q1</td>\n",
              "      <td>238.132</td>\n",
              "      <td>192.770209</td>\n",
              "    </tr>\n",
              "    <tr>\n",
              "      <th>17</th>\n",
              "      <td>2016Q2</td>\n",
              "      <td>241.018</td>\n",
              "      <td>194.023216</td>\n",
              "    </tr>\n",
              "    <tr>\n",
              "      <th>18</th>\n",
              "      <td>2016Q3</td>\n",
              "      <td>241.428</td>\n",
              "      <td>195.187355</td>\n",
              "    </tr>\n",
              "    <tr>\n",
              "      <th>19</th>\n",
              "      <td>2016Q4</td>\n",
              "      <td>241.432</td>\n",
              "      <td>196.309682</td>\n",
              "    </tr>\n",
              "    <tr>\n",
              "      <th>20</th>\n",
              "      <td>2017Q1</td>\n",
              "      <td>243.801</td>\n",
              "      <td>197.585695</td>\n",
              "    </tr>\n",
              "    <tr>\n",
              "      <th>21</th>\n",
              "      <td>2017Q2</td>\n",
              "      <td>244.955</td>\n",
              "      <td>198.771209</td>\n",
              "    </tr>\n",
              "    <tr>\n",
              "      <th>22</th>\n",
              "      <td>2017Q3</td>\n",
              "      <td>246.819</td>\n",
              "      <td>200.063222</td>\n",
              "    </tr>\n",
              "    <tr>\n",
              "      <th>23</th>\n",
              "      <td>2017Q4</td>\n",
              "      <td>246.524</td>\n",
              "      <td>201.463665</td>\n",
              "    </tr>\n",
              "    <tr>\n",
              "      <th>24</th>\n",
              "      <td>2018Q1</td>\n",
              "      <td>249.554</td>\n",
              "      <td>202.924276</td>\n",
              "    </tr>\n",
              "    <tr>\n",
              "      <th>25</th>\n",
              "      <td>2018Q2</td>\n",
              "      <td>251.989</td>\n",
              "      <td>204.395477</td>\n",
              "    </tr>\n",
              "    <tr>\n",
              "      <th>26</th>\n",
              "      <td>2018Q3</td>\n",
              "      <td>252.439</td>\n",
              "      <td>205.979542</td>\n",
              "    </tr>\n",
              "    <tr>\n",
              "      <th>27</th>\n",
              "      <td>2018Q4</td>\n",
              "      <td>251.233</td>\n",
              "      <td>207.575884</td>\n",
              "    </tr>\n",
              "    <tr>\n",
              "      <th>28</th>\n",
              "      <td>2019Q1</td>\n",
              "      <td>254.202</td>\n",
              "      <td>209.132703</td>\n",
              "    </tr>\n",
              "    <tr>\n",
              "      <th>29</th>\n",
              "      <td>2019Q2</td>\n",
              "      <td>256.143</td>\n",
              "      <td>210.701198</td>\n",
              "    </tr>\n",
              "    <tr>\n",
              "      <th>30</th>\n",
              "      <td>2019Q3</td>\n",
              "      <td>256.759</td>\n",
              "      <td>212.281457</td>\n",
              "    </tr>\n",
              "    <tr>\n",
              "      <th>31</th>\n",
              "      <td>2019Q4</td>\n",
              "      <td>256.974</td>\n",
              "      <td>213.873568</td>\n",
              "    </tr>\n",
              "    <tr>\n",
              "      <th>32</th>\n",
              "      <td>2020Q1</td>\n",
              "      <td>258.115</td>\n",
              "      <td>215.638025</td>\n",
              "    </tr>\n",
              "    <tr>\n",
              "      <th>33</th>\n",
              "      <td>2020Q2</td>\n",
              "      <td>257.797</td>\n",
              "      <td>217.201401</td>\n",
              "    </tr>\n",
              "    <tr>\n",
              "      <th>34</th>\n",
              "      <td>2020Q3</td>\n",
              "      <td>260.280</td>\n",
              "      <td>218.667510</td>\n",
              "    </tr>\n",
              "    <tr>\n",
              "      <th>35</th>\n",
              "      <td>2020Q4</td>\n",
              "      <td>260.474</td>\n",
              "      <td>220.198183</td>\n",
              "    </tr>\n",
              "    <tr>\n",
              "      <th>36</th>\n",
              "      <td>2021Q1</td>\n",
              "      <td>264.877</td>\n",
              "      <td>221.849669</td>\n",
              "    </tr>\n",
              "  </tbody>\n",
              "</table>\n",
              "</div>"
            ],
            "text/plain": [
              "      Date      CPI       Wages\n",
              "0   2012Q1  229.392  177.941225\n",
              "1   2012Q2  229.478  178.741961\n",
              "2   2012Q3  231.407  179.546299\n",
              "3   2012Q4  229.601  180.309371\n",
              "4   2013Q1  232.773  181.075686\n",
              "5   2013Q2  233.504  181.935795\n",
              "6   2013Q3  234.149  182.754507\n",
              "7   2013Q4  233.049  183.713968\n",
              "8   2014Q1  236.293  184.494752\n",
              "9   2014Q2  238.343  185.371102\n",
              "10  2014Q3  238.031  186.436986\n",
              "11  2014Q4  234.812  187.462389\n",
              "12  2015Q1  236.119  188.774626\n",
              "13  2015Q2  238.638  189.812887\n",
              "14  2015Q3  237.945  190.809404\n",
              "15  2015Q4  236.525  191.811154\n",
              "16  2016Q1  238.132  192.770209\n",
              "17  2016Q2  241.018  194.023216\n",
              "18  2016Q3  241.428  195.187355\n",
              "19  2016Q4  241.432  196.309682\n",
              "20  2017Q1  243.801  197.585695\n",
              "21  2017Q2  244.955  198.771209\n",
              "22  2017Q3  246.819  200.063222\n",
              "23  2017Q4  246.524  201.463665\n",
              "24  2018Q1  249.554  202.924276\n",
              "25  2018Q2  251.989  204.395477\n",
              "26  2018Q3  252.439  205.979542\n",
              "27  2018Q4  251.233  207.575884\n",
              "28  2019Q1  254.202  209.132703\n",
              "29  2019Q2  256.143  210.701198\n",
              "30  2019Q3  256.759  212.281457\n",
              "31  2019Q4  256.974  213.873568\n",
              "32  2020Q1  258.115  215.638025\n",
              "33  2020Q2  257.797  217.201401\n",
              "34  2020Q3  260.280  218.667510\n",
              "35  2020Q4  260.474  220.198183\n",
              "36  2021Q1  264.877  221.849669"
            ]
          },
          "metadata": {
            "tags": []
          },
          "execution_count": 21
        }
      ]
    },
    {
      "cell_type": "code",
      "metadata": {
        "colab": {
          "base_uri": "https://localhost:8080/",
          "height": 424
        },
        "id": "kEHvgAKulP_J",
        "outputId": "649cd844-5e3c-4fbf-d760-d387ba4932f6"
      },
      "source": [
        "ax = merged_data.plot(kind='bar', figsize=(20,7))\n",
        "# Set Date on the x-axis and rotate the labels by 45 degrees to make them more readable\n",
        "ax.set_xticklabels(merged_data.Date, rotation=45)\n",
        "ax.set_ylabel('CPI vs Wages and Salaries - 12 month change')\n",
        "ax.set_xlabel('Dates')"
      ],
      "execution_count": 22,
      "outputs": [
        {
          "output_type": "execute_result",
          "data": {
            "text/plain": [
              "Text(0.5, 0, 'Dates')"
            ]
          },
          "metadata": {
            "tags": []
          },
          "execution_count": 22
        },
        {
          "output_type": "display_data",
          "data": {
            "image/png": "[encoded data removed]",
            "text/plain": [
              "<Figure size 1440x504 with 1 Axes>"
            ]
          },
          "metadata": {
            "tags": [],
            "needs_background": "light"
          }
        }
      ]
    },
    {
      "cell_type": "code",
      "metadata": {
        "colab": {
          "base_uri": "https://localhost:8080/",
          "height": 386
        },
        "id": "DAL1tXIAly9Z",
        "outputId": "a8d66829-0c5a-4953-d8ea-b72238b5b837"
      },
      "source": [
        "ax = merged_data.plot(kind='line', figsize=(20,7))\n",
        "ax.set_ylabel('CPI vs Wages and Salaries - 12 month change')\n",
        "ax.set_xlabel('Dates')\n",
        "ax.grid()"
      ],
      "execution_count": 23,
      "outputs": [
        {
          "output_type": "display_data",
          "data": {
            "image/png": "[encoded data removed]",
            "text/plain": [
              "<Figure size 1440x504 with 1 Axes>"
            ]
          },
          "metadata": {
            "tags": [],
            "needs_background": "light"
          }
        }
      ]
    },
    {
      "cell_type": "markdown",
      "metadata": {
        "id": "DLwh8wn5mRqd"
      },
      "source": [
        "### Incorporate S & P 500 "
      ]
    },
    {
      "cell_type": "code",
      "metadata": {
        "colab": {
          "base_uri": "https://localhost:8080/",
          "height": 282
        },
        "id": "oemmfXFWnVQh",
        "outputId": "34fd9aa4-56c1-409c-bb09-01cbcbcaac65"
      },
      "source": [
        "X = merged_data.CPI\n",
        "y = merged_data.Wages\n",
        "plt.scatter(X, y)"
      ],
      "execution_count": 24,
      "outputs": [
        {
          "output_type": "execute_result",
          "data": {
            "text/plain": [
              "<matplotlib.collections.PathCollection at 0x7f30b1aa37d0>"
            ]
          },
          "metadata": {
            "tags": []
          },
          "execution_count": 24
        },
        {
          "output_type": "display_data",
          "data": {
            "image/png": "[encoded data removed]",
            "text/plain": [
              "<Figure size 432x288 with 1 Axes>"
            ]
          },
          "metadata": {
            "tags": [],
            "needs_background": "light"
          }
        }
      ]
    }
  ]
}